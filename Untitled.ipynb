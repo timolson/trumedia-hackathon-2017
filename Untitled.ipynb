{
 "cells": [
  {
   "cell_type": "code",
   "execution_count": 19,
   "metadata": {
    "collapsed": false
   },
   "outputs": [
    {
     "name": "stdout",
     "output_type": "stream",
     "text": [
      "['seasonYear', 'gameString', 'gameDate', 'gameType', 'visitor', 'home', 'visitingTeamFinalRuns', 'homeTeamFinalRuns', 'inning', 'side', 'batterId', 'batter', 'batterHand', 'pitcherId', 'pitcher', 'pitcherHand', 'catcherId', 'catcher', 'umpireId', 'umpire', 'timesFaced', 'batterPosition', 'balls', 'strikes', 'outs', 'manOnFirst', 'manOnSecond', 'manOnThird', 'endManOnFirst', 'endManOnSecond', 'endManOnThird', 'visitingTeamCurrentRuns', 'homeTeamCurrentRuns', 'pitchResult', 'pitchType', 'releaseVelocity', 'spinRate', 'spinDir', 'px', 'pz', 'szt', 'szb', 'x0', 'y0', 'z0', 'vx0', 'vy0', 'vz0', 'ax', 'ay', 'az', 'probCalledStrike', 'paResult', 'runsHome', 'battedBallType', 'battedBallAngle', 'battedBallDistance', 'atbatDesc']\n",
      "{'seasonYear': '2016', 'gameString': 'gid_2016_04_03_slnmlb_pitmlb_1', 'gameDate': '2016-04-03 13:05:00', 'gameType': 'REG', 'visitor': 'STL', 'home': 'PIT', 'visitingTeamFinalRuns': '1', 'homeTeamFinalRuns': '4', 'inning': '1', 'side': 'T', 'batterId': '572761', 'batter': 'Matt Carpenter', 'batterHand': 'L', 'pitcherId': '434538', 'pitcher': 'Francisco Liriano', 'pitcherHand': 'L', 'catcherId': '465041', 'catcher': 'Francisco Cervelli', 'umpireId': '427299', 'umpire': 'Jerry Layne', 'timesFaced': '1', 'batterPosition': '3B', 'balls': '0', 'strikes': '0', 'outs': '0', 'manOnFirst': 'false', 'manOnSecond': 'false', 'manOnThird': 'false', 'endManOnFirst': 'false', 'endManOnSecond': 'false', 'endManOnThird': 'false', 'visitingTeamCurrentRuns': '0', 'homeTeamCurrentRuns': '0', 'pitchResult': 'B', 'pitchType': 'FT', 'releaseVelocity': '90.2', 'spinRate': '2081.15', 'spinDir': '139.973', 'px': '-1.052', 'pz': '2.031', 'szt': '3.73', 'szb': '1.67', 'x0': '1.599', 'y0': '50', 'z0': '5.379', 'vx0': '-10.915', 'vy0': '-131.737', 'vz0': '-4.803', 'ax': '20.931', 'ay': '28.497', 'az': '-20.267', 'probCalledStrike': '0.548', 'paResult': '', 'runsHome': '', 'battedBallType': '', 'battedBallAngle': '', 'battedBallDistance': '', 'atbatDesc': ''}\n"
     ]
    }
   ],
   "source": [
    "import csv\n",
    "data = []\n",
    "firstRow = True\n",
    "with open('data/2016.csv','r') as file:\n",
    "    for row in csv.reader(file):\n",
    "        if firstRow:\n",
    "            header = row\n",
    "            firstRow = False\n",
    "        else:\n",
    "            data.append({ header[i]:row[i] for i in range(len(header)) })\n",
    "print(header)\n",
    "print(data[0])"
   ]
  },
  {
   "cell_type": "code",
   "execution_count": 38,
   "metadata": {
    "collapsed": false
   },
   "outputs": [
    {
     "name": "stdout",
     "output_type": "stream",
     "text": [
      "4956 discarded pitches out of 726023\n",
      "{'FT': 1387, 'SL': 819, 'CH': 545, 'FF': 70, 'CU': 4}\n"
     ]
    }
   ],
   "source": [
    "pitchers={}\n",
    "invalid = 0\n",
    "for row in data:\n",
    "    pt = row['pitchType']\n",
    "    pid = row['pitcherId']\n",
    "    if pt in ['PO','IN','AS','AB','AS','UN']:\n",
    "        invalid += 1\n",
    "        continue\n",
    "    pitcher = pitchers.get(pid,{})\n",
    "    pitchCounts = pitcher.get('pitchCounts',{})\n",
    "    pitchCounts[pt] = pitchCounts.get(pt,0) + 1\n",
    "    pitcher['pitchCounts'] = pitchCounts\n",
    "    pitchers[pid] = pitcher\n",
    "print('%d discarded pitches out of %d'%(invalid,len(data)))\n",
    "print(pitchers['434538']['pitchCounts'])"
   ]
  },
  {
   "cell_type": "code",
   "execution_count": 35,
   "metadata": {
    "collapsed": false
   },
   "outputs": [
    {
     "name": "stdout",
     "output_type": "stream",
     "text": [
      "0.8599672810355049\n"
     ]
    }
   ],
   "source": [
    "import math\n",
    "def entropy(arrayOfCounts):\n",
    "    total = sum(arrayOfCounts)\n",
    "    probs = [float(x)/total for x in arrayOfCounts]\n",
    "    return -sum([ prob * math.log(prob) for prob in probs ])\n",
    "print(entropy([7,1,3]))"
   ]
  },
  {
   "cell_type": "code",
   "execution_count": 41,
   "metadata": {
    "collapsed": false
   },
   "outputs": [
    {
     "name": "stdout",
     "output_type": "stream",
     "text": [
      "1.1265846785781564\n"
     ]
    }
   ],
   "source": [
    "for pid,pitcher in pitchers.items():\n",
    "    pitcher['entropy'] = entropy(pitcher['pitchCounts'].values())\n",
    "print(pitchers['434538']['entropy'])"
   ]
  },
  {
   "cell_type": "code",
   "execution_count": 54,
   "metadata": {
    "collapsed": false
   },
   "outputs": [
    {
     "name": "stdout",
     "output_type": "stream",
     "text": [
      "[ [] , [-0.0, -0.0, -0.0] , ... ]\n"
     ]
    }
   ],
   "source": [
    "entropiesByNumPitchTypes = []\n",
    "for pid,pitcher in pitchers.items():\n",
    "    numTypes = len(pitcher['pitchCounts'])\n",
    "    pitcher['numPitchTypes'] = numTypes\n",
    "    while numTypes >= len(entropiesByNumPitchTypes):\n",
    "        entropiesByNumPitchTypes.append([])\n",
    "    entropiesByNumPitchTypes[numTypes].append(pitcher['entropy'])\n",
    "print('[',entropiesByNumPitchTypes[0][0:3],',',entropiesByNumPitchTypes[1][0:3],', ... ]')"
   ]
  },
  {
   "cell_type": "code",
   "execution_count": 56,
   "metadata": {
    "collapsed": false
   },
   "outputs": [
    {
     "name": "stdout",
     "output_type": "stream",
     "text": [
      "[nan, 0.0, 0.5528647120019957, 0.8205833225796547, 1.0696952800171164, 1.2737322888728255, 1.394431816615637, 1.6107657834865288]\n"
     ]
    }
   ],
   "source": [
    "def avg(nums):\n",
    "    if len(nums) == 0:\n",
    "        return float('NaN')\n",
    "    return float(sum(nums))/len(nums)\n",
    "avgEntropyByNumPitchTypes = [ avg(entropies) for entropies in entropiesByNumPitchTypes ]\n",
    "print(avgEntropyByNumPitchTypes)"
   ]
  },
  {
   "cell_type": "code",
   "execution_count": 63,
   "metadata": {
    "collapsed": false
   },
   "outputs": [
    {
     "name": "stdout",
     "output_type": "stream",
     "text": [
      "{0: 0, 1: 3, 2: 23, 3: 122, 4: 238, 5: 269, 6: 79, 7: 8}\n"
     ]
    }
   ],
   "source": [
    "print(dict(zip(range(len(entropiesByNumPitchTypes)),[len(x) for x in entropiesByNumPitchTypes])))"
   ]
  },
  {
   "cell_type": "code",
   "execution_count": null,
   "metadata": {
    "collapsed": true
   },
   "outputs": [],
   "source": []
  }
 ],
 "metadata": {
  "kernelspec": {
   "display_name": "Python 3",
   "language": "python",
   "name": "python3"
  },
  "language_info": {
   "codemirror_mode": {
    "name": "ipython",
    "version": 3
   },
   "file_extension": ".py",
   "mimetype": "text/x-python",
   "name": "python",
   "nbconvert_exporter": "python",
   "pygments_lexer": "ipython3",
   "version": "3.6.0"
  }
 },
 "nbformat": 4,
 "nbformat_minor": 2
}
